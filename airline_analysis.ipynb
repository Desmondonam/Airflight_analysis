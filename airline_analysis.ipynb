{
 "cells": [
  {
   "cell_type": "code",
   "execution_count": 2,
   "id": "95f8df89",
   "metadata": {},
   "outputs": [],
   "source": [
    "# import the libraries needed\n",
    "\n",
    "import pandas as pd\n",
    "import numpy as np\n",
    "import os\n",
    "import sys\n",
    "sys.path.append(os.path.abspath(os.path.join('../scripts')))\n",
    "import seaborn as sns\n",
    "import matplotlib.pyplot as plt\n",
    "import plotly.express as px\n",
    "\n"
   ]
  },
  {
   "cell_type": "code",
   "execution_count": 4,
   "id": "0f1f7a37",
   "metadata": {},
   "outputs": [],
   "source": [
    "# ignore the warnings\n",
    "import warnings\n",
    "warnings.filterwarnings('ignore')"
   ]
  },
  {
   "cell_type": "code",
   "execution_count": 6,
   "id": "eedbb817",
   "metadata": {},
   "outputs": [
    {
     "data": {
      "text/html": [
       "<div>\n",
       "<style scoped>\n",
       "    .dataframe tbody tr th:only-of-type {\n",
       "        vertical-align: middle;\n",
       "    }\n",
       "\n",
       "    .dataframe tbody tr th {\n",
       "        vertical-align: top;\n",
       "    }\n",
       "\n",
       "    .dataframe thead th {\n",
       "        text-align: right;\n",
       "    }\n",
       "</style>\n",
       "<table border=\"1\" class=\"dataframe\">\n",
       "  <thead>\n",
       "    <tr style=\"text-align: right;\">\n",
       "      <th></th>\n",
       "      <th>City</th>\n",
       "      <th>Country</th>\n",
       "      <th>Code</th>\n",
       "    </tr>\n",
       "  </thead>\n",
       "  <tbody>\n",
       "    <tr>\n",
       "      <th>0</th>\n",
       "      <td>Aalborg</td>\n",
       "      <td>Denmark</td>\n",
       "      <td>AAL</td>\n",
       "    </tr>\n",
       "    <tr>\n",
       "      <th>1</th>\n",
       "      <td>Aalesund</td>\n",
       "      <td>Norway</td>\n",
       "      <td>AES</td>\n",
       "    </tr>\n",
       "    <tr>\n",
       "      <th>2</th>\n",
       "      <td>Aarhus</td>\n",
       "      <td>Denmark</td>\n",
       "      <td>AAR</td>\n",
       "    </tr>\n",
       "    <tr>\n",
       "      <th>3</th>\n",
       "      <td>Abbotsford, BC</td>\n",
       "      <td>Canada</td>\n",
       "      <td>YXX</td>\n",
       "    </tr>\n",
       "    <tr>\n",
       "      <th>4</th>\n",
       "      <td>Abbotsford, BC</td>\n",
       "      <td>Canada</td>\n",
       "      <td>YXX</td>\n",
       "    </tr>\n",
       "  </tbody>\n",
       "</table>\n",
       "</div>"
      ],
      "text/plain": [
       "             City  Country Code\n",
       "0         Aalborg  Denmark  AAL\n",
       "1        Aalesund   Norway  AES\n",
       "2          Aarhus  Denmark  AAR\n",
       "3  Abbotsford, BC   Canada  YXX\n",
       "4  Abbotsford, BC   Canada  YXX"
      ]
     },
     "execution_count": 6,
     "metadata": {},
     "output_type": "execute_result"
    }
   ],
   "source": [
    "#load the data that we are to use\n",
    "df = pd.read_csv(\"C:/Users/DESMOND/Airflight_analysis/AirportMapping.csv\")\n",
    "df.head()"
   ]
  },
  {
   "cell_type": "markdown",
   "id": "e1857de6",
   "metadata": {},
   "source": [
    "### EDA"
   ]
  },
  {
   "cell_type": "code",
   "execution_count": 7,
   "id": "bd9f682d",
   "metadata": {},
   "outputs": [
    {
     "name": "stdout",
     "output_type": "stream",
     "text": [
      "<class 'pandas.core.frame.DataFrame'>\n",
      "RangeIndex: 1579 entries, 0 to 1578\n",
      "Data columns (total 3 columns):\n",
      " #   Column   Non-Null Count  Dtype \n",
      "---  ------   --------------  ----- \n",
      " 0   City     1579 non-null   object\n",
      " 1   Country  1578 non-null   object\n",
      " 2   Code     1578 non-null   object\n",
      "dtypes: object(3)\n",
      "memory usage: 37.1+ KB\n"
     ]
    }
   ],
   "source": [
    "df.info()"
   ]
  },
  {
   "cell_type": "markdown",
   "id": "f471b49d",
   "metadata": {},
   "source": [
    "the data we have has got 1579  cities, 1578 countries and codes. "
   ]
  },
  {
   "cell_type": "code",
   "execution_count": 10,
   "id": "50e8b4dc",
   "metadata": {},
   "outputs": [],
   "source": [
    "class OverViewAnalysis:\n",
    "    \n",
    "    def __init__(self, df):\n",
    "        \n",
    "        self.df = df\n",
    "    \n",
    "    \n",
    "    def read_head(self, top=5):\n",
    "        return self.df.head(top)\n",
    "    \n",
    "    # returning the number of rows columns and column information\n",
    "    def get_info(self):\n",
    "        row_count, col_count = self.df.shape\n",
    "    \n",
    "        print(f\"Number of rows: {row_count}\")\n",
    "        print(f\"Number of columns: {col_count}\")\n",
    "        print(\"================================\")\n",
    "\n",
    "        return (row_count, col_count), self.df.info()\n",
    "    \n",
    "    # gets number of distnict values in a given coumn\n",
    "    def get_count(self, column_name):\n",
    "        return self.df[column_name].value_counts()\n",
    "    \n",
    "    # getting the null count for every column\n",
    "    def get_null_count(self, column_name):\n",
    "        print(\"Null values count\")\n",
    "        print(self.df.isnull().sum())\n",
    "        return self.df.isnull().sum()\n",
    "    \n",
    "    \n",
    "    "
   ]
  },
  {
   "cell_type": "code",
   "execution_count": 11,
   "id": "94bfed79",
   "metadata": {},
   "outputs": [],
   "source": [
    "overViewAnal = OverViewAnalysis(df)"
   ]
  },
  {
   "cell_type": "code",
   "execution_count": 12,
   "id": "7cf51216",
   "metadata": {},
   "outputs": [
    {
     "data": {
      "text/html": [
       "<div>\n",
       "<style scoped>\n",
       "    .dataframe tbody tr th:only-of-type {\n",
       "        vertical-align: middle;\n",
       "    }\n",
       "\n",
       "    .dataframe tbody tr th {\n",
       "        vertical-align: top;\n",
       "    }\n",
       "\n",
       "    .dataframe thead th {\n",
       "        text-align: right;\n",
       "    }\n",
       "</style>\n",
       "<table border=\"1\" class=\"dataframe\">\n",
       "  <thead>\n",
       "    <tr style=\"text-align: right;\">\n",
       "      <th></th>\n",
       "      <th>City</th>\n",
       "      <th>Country</th>\n",
       "      <th>Code</th>\n",
       "    </tr>\n",
       "  </thead>\n",
       "  <tbody>\n",
       "    <tr>\n",
       "      <th>0</th>\n",
       "      <td>Aalborg</td>\n",
       "      <td>Denmark</td>\n",
       "      <td>AAL</td>\n",
       "    </tr>\n",
       "    <tr>\n",
       "      <th>1</th>\n",
       "      <td>Aalesund</td>\n",
       "      <td>Norway</td>\n",
       "      <td>AES</td>\n",
       "    </tr>\n",
       "    <tr>\n",
       "      <th>2</th>\n",
       "      <td>Aarhus</td>\n",
       "      <td>Denmark</td>\n",
       "      <td>AAR</td>\n",
       "    </tr>\n",
       "    <tr>\n",
       "      <th>3</th>\n",
       "      <td>Abbotsford, BC</td>\n",
       "      <td>Canada</td>\n",
       "      <td>YXX</td>\n",
       "    </tr>\n",
       "    <tr>\n",
       "      <th>4</th>\n",
       "      <td>Abbotsford, BC</td>\n",
       "      <td>Canada</td>\n",
       "      <td>YXX</td>\n",
       "    </tr>\n",
       "  </tbody>\n",
       "</table>\n",
       "</div>"
      ],
      "text/plain": [
       "             City  Country Code\n",
       "0         Aalborg  Denmark  AAL\n",
       "1        Aalesund   Norway  AES\n",
       "2          Aarhus  Denmark  AAR\n",
       "3  Abbotsford, BC   Canada  YXX\n",
       "4  Abbotsford, BC   Canada  YXX"
      ]
     },
     "execution_count": 12,
     "metadata": {},
     "output_type": "execute_result"
    }
   ],
   "source": [
    "overViewAnal.read_head()"
   ]
  },
  {
   "cell_type": "code",
   "execution_count": 13,
   "id": "26d144e3",
   "metadata": {},
   "outputs": [
    {
     "name": "stdout",
     "output_type": "stream",
     "text": [
      "Number of rows: 1579\n",
      "Number of columns: 3\n",
      "================================\n",
      "<class 'pandas.core.frame.DataFrame'>\n",
      "RangeIndex: 1579 entries, 0 to 1578\n",
      "Data columns (total 3 columns):\n",
      " #   Column   Non-Null Count  Dtype \n",
      "---  ------   --------------  ----- \n",
      " 0   City     1579 non-null   object\n",
      " 1   Country  1578 non-null   object\n",
      " 2   Code     1578 non-null   object\n",
      "dtypes: object(3)\n",
      "memory usage: 37.1+ KB\n"
     ]
    },
    {
     "data": {
      "text/plain": [
       "((1579, 3), None)"
      ]
     },
     "execution_count": 13,
     "metadata": {},
     "output_type": "execute_result"
    }
   ],
   "source": [
    "overViewAnal.get_info()"
   ]
  },
  {
   "cell_type": "markdown",
   "id": "ddf40384",
   "metadata": {},
   "source": [
    "Now we have the overview analysis of the data that we are working with. we can see the missing values and we deduce there are none\n",
    "the data types that we have. "
   ]
  },
  {
   "cell_type": "code",
   "execution_count": 16,
   "id": "043a45ef",
   "metadata": {},
   "outputs": [
    {
     "data": {
      "text/plain": [
       "City       0\n",
       "Country    1\n",
       "Code       1\n",
       "dtype: int64"
      ]
     },
     "execution_count": 16,
     "metadata": {},
     "output_type": "execute_result"
    }
   ],
   "source": [
    "df.isnull().sum()"
   ]
  },
  {
   "cell_type": "markdown",
   "id": "8c9b35a9",
   "metadata": {},
   "source": [
    "We have one missinf data in the code and also in the country"
   ]
  },
  {
   "cell_type": "code",
   "execution_count": null,
   "id": "0126c037",
   "metadata": {},
   "outputs": [],
   "source": []
  }
 ],
 "metadata": {
  "kernelspec": {
   "display_name": "Python 3",
   "language": "python",
   "name": "python3"
  },
  "language_info": {
   "codemirror_mode": {
    "name": "ipython",
    "version": 3
   },
   "file_extension": ".py",
   "mimetype": "text/x-python",
   "name": "python",
   "nbconvert_exporter": "python",
   "pygments_lexer": "ipython3",
   "version": "3.8.8"
  }
 },
 "nbformat": 4,
 "nbformat_minor": 5
}
