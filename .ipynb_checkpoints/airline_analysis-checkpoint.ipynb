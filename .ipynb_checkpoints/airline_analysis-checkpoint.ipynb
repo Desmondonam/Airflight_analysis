{
 "cells": [
  {
   "cell_type": "code",
   "execution_count": 20,
   "id": "4f35097e",
   "metadata": {},
   "outputs": [],
   "source": [
    "# import the libraries needed\n",
    "\n",
    "import pandas as pd\n",
    "import numpy as np\n",
    "import os\n",
    "import sys\n",
    "sys.path.append(os.path.abspath(os.path.join('../scripts')))\n",
    "import seaborn as sns\n",
    "import matplotlib.pyplot as plt\n",
    "import plotly.express as px\n",
    "import networkx as nx\n",
    "\n"
   ]
  },
  {
   "cell_type": "code",
   "execution_count": 4,
   "id": "2caa75ce",
   "metadata": {},
   "outputs": [],
   "source": [
    "# ignore the warnings\n",
    "import warnings\n",
    "warnings.filterwarnings('ignore')"
   ]
  },
  {
   "cell_type": "code",
   "execution_count": 6,
   "id": "7d1fba68",
   "metadata": {},
   "outputs": [
    {
     "data": {
      "text/html": [
       "<div>\n",
       "<style scoped>\n",
       "    .dataframe tbody tr th:only-of-type {\n",
       "        vertical-align: middle;\n",
       "    }\n",
       "\n",
       "    .dataframe tbody tr th {\n",
       "        vertical-align: top;\n",
       "    }\n",
       "\n",
       "    .dataframe thead th {\n",
       "        text-align: right;\n",
       "    }\n",
       "</style>\n",
       "<table border=\"1\" class=\"dataframe\">\n",
       "  <thead>\n",
       "    <tr style=\"text-align: right;\">\n",
       "      <th></th>\n",
       "      <th>City</th>\n",
       "      <th>Country</th>\n",
       "      <th>Code</th>\n",
       "    </tr>\n",
       "  </thead>\n",
       "  <tbody>\n",
       "    <tr>\n",
       "      <th>0</th>\n",
       "      <td>Aalborg</td>\n",
       "      <td>Denmark</td>\n",
       "      <td>AAL</td>\n",
       "    </tr>\n",
       "    <tr>\n",
       "      <th>1</th>\n",
       "      <td>Aalesund</td>\n",
       "      <td>Norway</td>\n",
       "      <td>AES</td>\n",
       "    </tr>\n",
       "    <tr>\n",
       "      <th>2</th>\n",
       "      <td>Aarhus</td>\n",
       "      <td>Denmark</td>\n",
       "      <td>AAR</td>\n",
       "    </tr>\n",
       "    <tr>\n",
       "      <th>3</th>\n",
       "      <td>Abbotsford, BC</td>\n",
       "      <td>Canada</td>\n",
       "      <td>YXX</td>\n",
       "    </tr>\n",
       "    <tr>\n",
       "      <th>4</th>\n",
       "      <td>Abbotsford, BC</td>\n",
       "      <td>Canada</td>\n",
       "      <td>YXX</td>\n",
       "    </tr>\n",
       "  </tbody>\n",
       "</table>\n",
       "</div>"
      ],
      "text/plain": [
       "             City  Country Code\n",
       "0         Aalborg  Denmark  AAL\n",
       "1        Aalesund   Norway  AES\n",
       "2          Aarhus  Denmark  AAR\n",
       "3  Abbotsford, BC   Canada  YXX\n",
       "4  Abbotsford, BC   Canada  YXX"
      ]
     },
     "execution_count": 6,
     "metadata": {},
     "output_type": "execute_result"
    }
   ],
   "source": [
    "#load the data that we are to use\n",
    "df = pd.read_csv(\"C:/Users/DESMOND/Airflight_analysis/AirportMapping.csv\")\n",
    "df.head()"
   ]
  },
  {
   "cell_type": "code",
   "execution_count": null,
   "id": "85688f01",
   "metadata": {},
   "outputs": [],
   "source": []
  },
  {
   "cell_type": "code",
   "execution_count": null,
   "id": "16cd91f7",
   "metadata": {},
   "outputs": [],
   "source": []
  },
  {
   "cell_type": "code",
   "execution_count": 22,
   "id": "60de43c3",
   "metadata": {},
   "outputs": [
    {
     "data": {
      "text/html": [
       "<div>\n",
       "<style scoped>\n",
       "    .dataframe tbody tr th:only-of-type {\n",
       "        vertical-align: middle;\n",
       "    }\n",
       "\n",
       "    .dataframe tbody tr th {\n",
       "        vertical-align: top;\n",
       "    }\n",
       "\n",
       "    .dataframe thead th {\n",
       "        text-align: right;\n",
       "    }\n",
       "</style>\n",
       "<table border=\"1\" class=\"dataframe\">\n",
       "  <thead>\n",
       "    <tr style=\"text-align: right;\">\n",
       "      <th></th>\n",
       "      <th>City</th>\n",
       "      <th>Country</th>\n",
       "      <th>Code</th>\n",
       "    </tr>\n",
       "  </thead>\n",
       "  <tbody>\n",
       "    <tr>\n",
       "      <th>0</th>\n",
       "      <td>Aalborg</td>\n",
       "      <td>Denmark</td>\n",
       "      <td>AAL</td>\n",
       "    </tr>\n",
       "    <tr>\n",
       "      <th>1</th>\n",
       "      <td>Aalesund</td>\n",
       "      <td>Norway</td>\n",
       "      <td>AES</td>\n",
       "    </tr>\n",
       "    <tr>\n",
       "      <th>2</th>\n",
       "      <td>Aarhus</td>\n",
       "      <td>Denmark</td>\n",
       "      <td>AAR</td>\n",
       "    </tr>\n",
       "    <tr>\n",
       "      <th>3</th>\n",
       "      <td>Abbotsford, BC</td>\n",
       "      <td>Canada</td>\n",
       "      <td>YXX</td>\n",
       "    </tr>\n",
       "    <tr>\n",
       "      <th>4</th>\n",
       "      <td>Abbotsford, BC</td>\n",
       "      <td>Canada</td>\n",
       "      <td>YXX</td>\n",
       "    </tr>\n",
       "    <tr>\n",
       "      <th>...</th>\n",
       "      <td>...</td>\n",
       "      <td>...</td>\n",
       "      <td>...</td>\n",
       "    </tr>\n",
       "    <tr>\n",
       "      <th>1574</th>\n",
       "      <td>Zanzibar</td>\n",
       "      <td>Tanzania</td>\n",
       "      <td>ZNZ</td>\n",
       "    </tr>\n",
       "    <tr>\n",
       "      <th>1575</th>\n",
       "      <td>Zaragoza</td>\n",
       "      <td>Spain</td>\n",
       "      <td>ZAZ</td>\n",
       "    </tr>\n",
       "    <tr>\n",
       "      <th>1576</th>\n",
       "      <td>Zhengzhou</td>\n",
       "      <td>China</td>\n",
       "      <td>CGO</td>\n",
       "    </tr>\n",
       "    <tr>\n",
       "      <th>1577</th>\n",
       "      <td>Zhoushan</td>\n",
       "      <td>China</td>\n",
       "      <td>HSN</td>\n",
       "    </tr>\n",
       "    <tr>\n",
       "      <th>1578</th>\n",
       "      <td>Zurich</td>\n",
       "      <td>Switzerland</td>\n",
       "      <td>ZRH</td>\n",
       "    </tr>\n",
       "  </tbody>\n",
       "</table>\n",
       "<p>1579 rows × 3 columns</p>\n",
       "</div>"
      ],
      "text/plain": [
       "                City      Country Code\n",
       "0            Aalborg      Denmark  AAL\n",
       "1           Aalesund       Norway  AES\n",
       "2             Aarhus      Denmark  AAR\n",
       "3     Abbotsford, BC       Canada  YXX\n",
       "4     Abbotsford, BC       Canada  YXX\n",
       "...              ...          ...  ...\n",
       "1574        Zanzibar     Tanzania  ZNZ\n",
       "1575        Zaragoza        Spain  ZAZ\n",
       "1576       Zhengzhou        China  CGO\n",
       "1577        Zhoushan        China  HSN\n",
       "1578          Zurich  Switzerland  ZRH\n",
       "\n",
       "[1579 rows x 3 columns]"
      ]
     },
     "execution_count": 22,
     "metadata": {},
     "output_type": "execute_result"
    }
   ],
   "source": [
    "df"
   ]
  },
  {
   "cell_type": "code",
   "execution_count": 27,
   "id": "a82b8d6e",
   "metadata": {},
   "outputs": [
    {
     "name": "stdout",
     "output_type": "stream",
     "text": [
      "[['AL242' 'AL242' 'ASF' ... '' '0' 'CR2']\n",
      " ['AL242' 'AL242' 'ASF' ... '' '0' 'CR2']\n",
      " ['AL242' 'AL242' 'CEK' ... '' '0' 'CR2']\n",
      " ...\n",
      " ['AL530' 'AL530' 'FRU' ... '' '0' '734']\n",
      " ['AL530' 'AL530' 'FRU' ... '' '0' '734']\n",
      " ['AL530' 'AL530' 'OSS' ... '' '0' '734']]\n"
     ]
    }
   ],
   "source": [
    "# import the txt files\n",
    "\n",
    "import numpy as np\n",
    "filename = 'C:/Users/DESMOND/Airflight_analysis/routes_v3.txt'\n",
    "data = np.loadtxt(filename, delimiter=',', skiprows=1, dtype=str)\n",
    "print(data)"
   ]
  },
  {
   "cell_type": "code",
   "execution_count": null,
   "id": "eafd9605",
   "metadata": {},
   "outputs": [],
   "source": []
  },
  {
   "cell_type": "markdown",
   "id": "da244031",
   "metadata": {},
   "source": [
    "### EDA"
   ]
  },
  {
   "cell_type": "code",
   "execution_count": 7,
   "id": "a29402a9",
   "metadata": {},
   "outputs": [
    {
     "name": "stdout",
     "output_type": "stream",
     "text": [
      "<class 'pandas.core.frame.DataFrame'>\n",
      "RangeIndex: 1579 entries, 0 to 1578\n",
      "Data columns (total 3 columns):\n",
      " #   Column   Non-Null Count  Dtype \n",
      "---  ------   --------------  ----- \n",
      " 0   City     1579 non-null   object\n",
      " 1   Country  1578 non-null   object\n",
      " 2   Code     1578 non-null   object\n",
      "dtypes: object(3)\n",
      "memory usage: 37.1+ KB\n"
     ]
    }
   ],
   "source": [
    "df.info()"
   ]
  },
  {
   "cell_type": "markdown",
   "id": "5c822db6",
   "metadata": {},
   "source": [
    "the data we have has got 1579  cities, 1578 countries and codes. "
   ]
  },
  {
   "cell_type": "code",
   "execution_count": 10,
   "id": "47f5eb3f",
   "metadata": {},
   "outputs": [],
   "source": [
    "class OverViewAnalysis:\n",
    "    \n",
    "    def __init__(self, df):\n",
    "        \n",
    "        self.df = df\n",
    "    \n",
    "    \n",
    "    def read_head(self, top=5):\n",
    "        return self.df.head(top)\n",
    "    \n",
    "    # returning the number of rows columns and column information\n",
    "    def get_info(self):\n",
    "        row_count, col_count = self.df.shape\n",
    "    \n",
    "        print(f\"Number of rows: {row_count}\")\n",
    "        print(f\"Number of columns: {col_count}\")\n",
    "        print(\"================================\")\n",
    "\n",
    "        return (row_count, col_count), self.df.info()\n",
    "    \n",
    "    # gets number of distnict values in a given coumn\n",
    "    def get_count(self, column_name):\n",
    "        return self.df[column_name].value_counts()\n",
    "    \n",
    "    # getting the null count for every column\n",
    "    def get_null_count(self, column_name):\n",
    "        print(\"Null values count\")\n",
    "        print(self.df.isnull().sum())\n",
    "        return self.df.isnull().sum()\n",
    "    \n",
    "    \n",
    "    "
   ]
  },
  {
   "cell_type": "code",
   "execution_count": 11,
   "id": "db777f39",
   "metadata": {},
   "outputs": [],
   "source": [
    "overViewAnal = OverViewAnalysis(df)"
   ]
  },
  {
   "cell_type": "code",
   "execution_count": 12,
   "id": "20eb6264",
   "metadata": {},
   "outputs": [
    {
     "data": {
      "text/html": [
       "<div>\n",
       "<style scoped>\n",
       "    .dataframe tbody tr th:only-of-type {\n",
       "        vertical-align: middle;\n",
       "    }\n",
       "\n",
       "    .dataframe tbody tr th {\n",
       "        vertical-align: top;\n",
       "    }\n",
       "\n",
       "    .dataframe thead th {\n",
       "        text-align: right;\n",
       "    }\n",
       "</style>\n",
       "<table border=\"1\" class=\"dataframe\">\n",
       "  <thead>\n",
       "    <tr style=\"text-align: right;\">\n",
       "      <th></th>\n",
       "      <th>City</th>\n",
       "      <th>Country</th>\n",
       "      <th>Code</th>\n",
       "    </tr>\n",
       "  </thead>\n",
       "  <tbody>\n",
       "    <tr>\n",
       "      <th>0</th>\n",
       "      <td>Aalborg</td>\n",
       "      <td>Denmark</td>\n",
       "      <td>AAL</td>\n",
       "    </tr>\n",
       "    <tr>\n",
       "      <th>1</th>\n",
       "      <td>Aalesund</td>\n",
       "      <td>Norway</td>\n",
       "      <td>AES</td>\n",
       "    </tr>\n",
       "    <tr>\n",
       "      <th>2</th>\n",
       "      <td>Aarhus</td>\n",
       "      <td>Denmark</td>\n",
       "      <td>AAR</td>\n",
       "    </tr>\n",
       "    <tr>\n",
       "      <th>3</th>\n",
       "      <td>Abbotsford, BC</td>\n",
       "      <td>Canada</td>\n",
       "      <td>YXX</td>\n",
       "    </tr>\n",
       "    <tr>\n",
       "      <th>4</th>\n",
       "      <td>Abbotsford, BC</td>\n",
       "      <td>Canada</td>\n",
       "      <td>YXX</td>\n",
       "    </tr>\n",
       "  </tbody>\n",
       "</table>\n",
       "</div>"
      ],
      "text/plain": [
       "             City  Country Code\n",
       "0         Aalborg  Denmark  AAL\n",
       "1        Aalesund   Norway  AES\n",
       "2          Aarhus  Denmark  AAR\n",
       "3  Abbotsford, BC   Canada  YXX\n",
       "4  Abbotsford, BC   Canada  YXX"
      ]
     },
     "execution_count": 12,
     "metadata": {},
     "output_type": "execute_result"
    }
   ],
   "source": [
    "overViewAnal.read_head()"
   ]
  },
  {
   "cell_type": "code",
   "execution_count": 13,
   "id": "7e91aaee",
   "metadata": {},
   "outputs": [
    {
     "name": "stdout",
     "output_type": "stream",
     "text": [
      "Number of rows: 1579\n",
      "Number of columns: 3\n",
      "================================\n",
      "<class 'pandas.core.frame.DataFrame'>\n",
      "RangeIndex: 1579 entries, 0 to 1578\n",
      "Data columns (total 3 columns):\n",
      " #   Column   Non-Null Count  Dtype \n",
      "---  ------   --------------  ----- \n",
      " 0   City     1579 non-null   object\n",
      " 1   Country  1578 non-null   object\n",
      " 2   Code     1578 non-null   object\n",
      "dtypes: object(3)\n",
      "memory usage: 37.1+ KB\n"
     ]
    },
    {
     "data": {
      "text/plain": [
       "((1579, 3), None)"
      ]
     },
     "execution_count": 13,
     "metadata": {},
     "output_type": "execute_result"
    }
   ],
   "source": [
    "overViewAnal.get_info()"
   ]
  },
  {
   "cell_type": "markdown",
   "id": "223fdc40",
   "metadata": {},
   "source": [
    "Now we have the overview analysis of the data that we are working with. we can see the missing values and we deduce there are none\n",
    "the data types that we have. "
   ]
  },
  {
   "cell_type": "code",
   "execution_count": 16,
   "id": "c1a5f6ee",
   "metadata": {},
   "outputs": [
    {
     "data": {
      "text/plain": [
       "City       0\n",
       "Country    1\n",
       "Code       1\n",
       "dtype: int64"
      ]
     },
     "execution_count": 16,
     "metadata": {},
     "output_type": "execute_result"
    }
   ],
   "source": [
    "df.isnull().sum()"
   ]
  },
  {
   "cell_type": "markdown",
   "id": "8b84e6cc",
   "metadata": {},
   "source": [
    "We have one missinf data in the code and also in the country"
   ]
  },
  {
   "cell_type": "code",
   "execution_count": 19,
   "id": "c3ec7580",
   "metadata": {},
   "outputs": [],
   "source": [
    "# Flight codes to analyse\n",
    "flights = ['AL8', 'AL54', 'AL2', 'AL3', 'AL4', 'AL5', 'AL6', 'AL12', 'AL56', 'AL7', 'AL9', 'AL10', 'AL 11', 'AL12', 'AL13', 'AL14', 'AL1', 'AL15', 'AL16', 'AL17',\n",
    "'AL35', 'AL33', 'AL23', 'AL25', 'AL18', 'AL19', 'AL20', 'AL47', 'AL26', 'AL28', 'AL31', 'AL32', 'AL37', 'AL40']\n"
   ]
  },
  {
   "cell_type": "code",
   "execution_count": 21,
   "id": "3b3e54ad",
   "metadata": {},
   "outputs": [],
   "source": [
    "G = nx.Graph()"
   ]
  },
  {
   "cell_type": "code",
   "execution_count": 29,
   "id": "6f546c9f",
   "metadata": {},
   "outputs": [
    {
     "data": {
      "text/plain": [
       "0              Aalborg\n",
       "1             Aalesund\n",
       "2               Aarhus\n",
       "3       Abbotsford, BC\n",
       "4       Abbotsford, BC\n",
       "             ...      \n",
       "1574          Zanzibar\n",
       "1575          Zaragoza\n",
       "1576         Zhengzhou\n",
       "1577          Zhoushan\n",
       "1578            Zurich\n",
       "Name: City, Length: 1579, dtype: object"
      ]
     },
     "execution_count": 29,
     "metadata": {},
     "output_type": "execute_result"
    }
   ],
   "source": [
    "# find the rout paths with the first data\n",
    "city = df['City']\n",
    "city"
   ]
  },
  {
   "cell_type": "code",
   "execution_count": 25,
   "id": "929156a7",
   "metadata": {},
   "outputs": [
    {
     "data": {
      "text/plain": [
       "array(['Aalborg', 'Aalesund', 'Aarhus', ..., 'Zhengzhou', 'Zhoushan',\n",
       "       'Zurich'], dtype=object)"
      ]
     },
     "execution_count": 25,
     "metadata": {},
     "output_type": "execute_result"
    }
   ],
   "source": [
    "# Unique cities in the data\n",
    "df['City'].unique()"
   ]
  },
  {
   "cell_type": "code",
   "execution_count": null,
   "id": "75cd49d4",
   "metadata": {},
   "outputs": [],
   "source": [
    "# vertices, airport codes as the vertices\n",
    "v = city"
   ]
  }
 ],
 "metadata": {
  "kernelspec": {
   "display_name": "Python 3",
   "language": "python",
   "name": "python3"
  },
  "language_info": {
   "codemirror_mode": {
    "name": "ipython",
    "version": 3
   },
   "file_extension": ".py",
   "mimetype": "text/x-python",
   "name": "python",
   "nbconvert_exporter": "python",
   "pygments_lexer": "ipython3",
   "version": "3.8.8"
  }
 },
 "nbformat": 4,
 "nbformat_minor": 5
}
